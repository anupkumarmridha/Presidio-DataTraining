{
  "nbformat": 4,
  "nbformat_minor": 0,
  "metadata": {
    "colab": {
      "provenance": []
    },
    "kernelspec": {
      "name": "python3",
      "display_name": "Python 3"
    },
    "language_info": {
      "name": "python"
    }
  },
  "cells": [
    {
      "cell_type": "code",
      "execution_count": 1,
      "metadata": {
        "colab": {
          "base_uri": "https://localhost:8080/"
        },
        "id": "EF6Uyi9mwTGq",
        "outputId": "557fc23e-f54a-49dc-dabb-5b027f28a9e6"
      },
      "outputs": [
        {
          "output_type": "stream",
          "name": "stdout",
          "text": [
            "Collecting pyspark\n",
            "  Downloading pyspark-3.5.2.tar.gz (317.3 MB)\n",
            "\u001b[2K     \u001b[90m━━━━━━━━━━━━━━━━━━━━━━━━━━━━━━━━━━━━━━━━\u001b[0m \u001b[32m317.3/317.3 MB\u001b[0m \u001b[31m4.6 MB/s\u001b[0m eta \u001b[36m0:00:00\u001b[0m\n",
            "\u001b[?25h  Preparing metadata (setup.py) ... \u001b[?25l\u001b[?25hdone\n",
            "Requirement already satisfied: py4j==0.10.9.7 in /usr/local/lib/python3.10/dist-packages (from pyspark) (0.10.9.7)\n",
            "Building wheels for collected packages: pyspark\n",
            "  Building wheel for pyspark (setup.py) ... \u001b[?25l\u001b[?25hdone\n",
            "  Created wheel for pyspark: filename=pyspark-3.5.2-py2.py3-none-any.whl size=317812365 sha256=e8950fed2b777a1b43f134ec4fdbfcbf397a60c8b341c48d55488421a293797d\n",
            "  Stored in directory: /root/.cache/pip/wheels/34/34/bd/03944534c44b677cd5859f248090daa9fb27b3c8f8e5f49574\n",
            "Successfully built pyspark\n",
            "Installing collected packages: pyspark\n",
            "Successfully installed pyspark-3.5.2\n"
          ]
        }
      ],
      "source": [
        "!pip install pyspark"
      ]
    },
    {
      "cell_type": "code",
      "source": [
        "from pyspark.sql import SparkSession\n",
        "from pyspark.sql.functions import col, lower, sum, max, min, expr, month, date_format\n",
        "from pyspark.sql.window import Window"
      ],
      "metadata": {
        "id": "liyohkVQw8cO"
      },
      "execution_count": 2,
      "outputs": []
    },
    {
      "cell_type": "markdown",
      "source": [
        "# Initialize Spark session"
      ],
      "metadata": {
        "id": "J7rQDKcLxs-z"
      }
    },
    {
      "cell_type": "code",
      "source": [
        "spark = SparkSession.builder.appName(\"CovidDataAnalysis\").getOrCreate()"
      ],
      "metadata": {
        "id": "zyh3lsJJxIqa"
      },
      "execution_count": 5,
      "outputs": []
    },
    {
      "cell_type": "markdown",
      "source": [
        "# Load the CSV file into a DataFrame\n"
      ],
      "metadata": {
        "id": "3957l9CBxv61"
      }
    },
    {
      "cell_type": "code",
      "source": [
        "df = spark.read.csv(\"/content/complete.csv\", header=True, inferSchema=True)"
      ],
      "metadata": {
        "id": "2i6zQ6JSxWac"
      },
      "execution_count": 6,
      "outputs": []
    },
    {
      "cell_type": "code",
      "source": [
        "df.show(5)"
      ],
      "metadata": {
        "colab": {
          "base_uri": "https://localhost:8080/"
        },
        "id": "rWy5PyIvxkRV",
        "outputId": "b54b8a87-f07f-4763-8b51-94173765332d"
      },
      "execution_count": 7,
      "outputs": [
        {
          "output_type": "stream",
          "name": "stdout",
          "text": [
            "+----------+------------------+--------+---------+---------------------+-----+-------------------------+---------+----------+-------------+\n",
            "|      Date|Name of State / UT|Latitude|Longitude|Total Confirmed cases|Death|Cured/Discharged/Migrated|New cases|New deaths|New recovered|\n",
            "+----------+------------------+--------+---------+---------------------+-----+-------------------------+---------+----------+-------------+\n",
            "|2020-01-30|            Kerala| 10.8505|  76.2711|                  1.0|    0|                      0.0|        0|         0|            0|\n",
            "|2020-01-31|            Kerala| 10.8505|  76.2711|                  1.0|    0|                      0.0|        0|         0|            0|\n",
            "|2020-02-01|            Kerala| 10.8505|  76.2711|                  2.0|    0|                      0.0|        1|         0|            0|\n",
            "|2020-02-02|            Kerala| 10.8505|  76.2711|                  3.0|    0|                      0.0|        1|         0|            0|\n",
            "|2020-02-03|            Kerala| 10.8505|  76.2711|                  3.0|    0|                      0.0|        0|         0|            0|\n",
            "+----------+------------------+--------+---------+---------------------+-----+-------------------------+---------+----------+-------------+\n",
            "only showing top 5 rows\n",
            "\n"
          ]
        }
      ]
    },
    {
      "cell_type": "code",
      "source": [
        "df.printSchema()"
      ],
      "metadata": {
        "colab": {
          "base_uri": "https://localhost:8080/"
        },
        "id": "O49N55cbyD9D",
        "outputId": "2ba574c6-324b-4a9c-be5c-29dcd0d1babe"
      },
      "execution_count": 8,
      "outputs": [
        {
          "output_type": "stream",
          "name": "stdout",
          "text": [
            "root\n",
            " |-- Date: date (nullable = true)\n",
            " |-- Name of State / UT: string (nullable = true)\n",
            " |-- Latitude: double (nullable = true)\n",
            " |-- Longitude: double (nullable = true)\n",
            " |-- Total Confirmed cases: double (nullable = true)\n",
            " |-- Death: string (nullable = true)\n",
            " |-- Cured/Discharged/Migrated: double (nullable = true)\n",
            " |-- New cases: integer (nullable = true)\n",
            " |-- New deaths: integer (nullable = true)\n",
            " |-- New recovered: integer (nullable = true)\n",
            "\n"
          ]
        }
      ]
    },
    {
      "cell_type": "markdown",
      "source": [
        "# 1. Convert all state names to lowercase"
      ],
      "metadata": {
        "id": "PbmLcCOpyjsX"
      }
    },
    {
      "cell_type": "code",
      "source": [
        "\n",
        "df = df.withColumn(\"Name of State / UT\", lower(col(\"Name of State / UT\")))"
      ],
      "metadata": {
        "id": "7fZHiCPmyKSD"
      },
      "execution_count": 13,
      "outputs": []
    },
    {
      "cell_type": "code",
      "source": [
        "df.show(5)"
      ],
      "metadata": {
        "colab": {
          "base_uri": "https://localhost:8080/"
        },
        "id": "XGX4nWEwyVXz",
        "outputId": "1e81b2db-4080-4589-e34b-f527df99c755"
      },
      "execution_count": 12,
      "outputs": [
        {
          "output_type": "stream",
          "name": "stdout",
          "text": [
            "+----------+------------------+--------+---------+---------------------+-----+-------------------------+---------+----------+-------------+\n",
            "|      Date|Name of State / UT|Latitude|Longitude|Total Confirmed cases|Death|Cured/Discharged/Migrated|New cases|New deaths|New recovered|\n",
            "+----------+------------------+--------+---------+---------------------+-----+-------------------------+---------+----------+-------------+\n",
            "|2020-01-30|            kerala| 10.8505|  76.2711|                  1.0|    0|                      0.0|        0|         0|            0|\n",
            "|2020-01-31|            kerala| 10.8505|  76.2711|                  1.0|    0|                      0.0|        0|         0|            0|\n",
            "|2020-02-01|            kerala| 10.8505|  76.2711|                  2.0|    0|                      0.0|        1|         0|            0|\n",
            "|2020-02-02|            kerala| 10.8505|  76.2711|                  3.0|    0|                      0.0|        1|         0|            0|\n",
            "|2020-02-03|            kerala| 10.8505|  76.2711|                  3.0|    0|                      0.0|        0|         0|            0|\n",
            "+----------+------------------+--------+---------+---------------------+-----+-------------------------+---------+----------+-------------+\n",
            "only showing top 5 rows\n",
            "\n"
          ]
        }
      ]
    },
    {
      "cell_type": "markdown",
      "source": [
        "# 2. The day with the greatest number of COVID cases\n",
        "We sum the New cases per day and order by the total to find the day with the maximum new cases."
      ],
      "metadata": {
        "id": "bH5y09hXyonF"
      }
    },
    {
      "cell_type": "code",
      "source": [
        "max_cases_day = df.groupBy(\"Date\").agg(sum(\"New cases\").alias(\"Total_New_Cases\"))\\\n",
        "                  .orderBy(col(\"Total_New_Cases\").desc()).first()"
      ],
      "metadata": {
        "id": "166QWit7yc_f"
      },
      "execution_count": 15,
      "outputs": []
    },
    {
      "cell_type": "markdown",
      "source": [
        "# 3. Find the state with the second-largest number of COVID cases (Total Confirmed cases)\n",
        "We sum the Total Confirmed cases per state and find the second-highest total by ordering the results and accessing the second element."
      ],
      "metadata": {
        "id": "oNX_Kpc7zVTz"
      }
    },
    {
      "cell_type": "code",
      "source": [
        "state_cases = df.groupBy(\"Name of State / UT\").agg(sum(\"Total Confirmed cases\").alias(\"Total_Cases\"))\n",
        "second_largest_state = state_cases.orderBy(col(\"Total_Cases\").desc()).collect()[1]"
      ],
      "metadata": {
        "id": "l8Ak97C3zMXS"
      },
      "execution_count": 16,
      "outputs": []
    },
    {
      "cell_type": "markdown",
      "source": [
        "# 4. Find the Union Territory with the least number of deaths (Death)\n",
        "We filter the data to include only union territories and sum the Death column, then find the one with the minimum deaths.\n"
      ],
      "metadata": {
        "id": "ZnSzTvwnzcH7"
      }
    },
    {
      "cell_type": "code",
      "source": [
        "union_territory_deaths = df.filter(df[\"Name of State / UT\"].isin([\"delhi\", \"puducherry\", \"lakshadweep\", \"ladakh\", \"daman and diu\", \"dadra and nagar haveli\", \"chandigarh\", \"andaman and nicobar islands\"]))\\\n",
        "                           .groupBy(\"Name of State / UT\").agg(sum(\"Death\").alias(\"Total_Deaths\"))\n",
        "least_deaths_ut = union_territory_deaths.orderBy(col(\"Total_Deaths\").asc()).first()"
      ],
      "metadata": {
        "id": "UWhZ-xg6zZgY"
      },
      "execution_count": 17,
      "outputs": []
    },
    {
      "cell_type": "markdown",
      "source": [
        "\n",
        "# 5. Find the state with the lowest Death to Total Confirmed cases ratio\n",
        "We calculate the ratio of deaths to confirmed cases for each state and find the state with the lowest ratio."
      ],
      "metadata": {
        "id": "EWsLX6DBznZx"
      }
    },
    {
      "cell_type": "code",
      "source": [
        "state_death_ratio = df.groupBy(\"Name of State / UT\").agg(\n",
        "    (sum(\"Death\") / sum(\"Total Confirmed cases\")).alias(\"Death_Confirmed_Ratio\")\n",
        ")\n",
        "lowest_death_ratio_state = state_death_ratio.orderBy(col(\"Death_Confirmed_Ratio\").asc()).first()\n"
      ],
      "metadata": {
        "id": "tRYX5OErzirs"
      },
      "execution_count": 18,
      "outputs": []
    },
    {
      "cell_type": "markdown",
      "source": [
        "# 6. Find which month has the most newer recovered cases\n",
        "\n",
        "We extract the month from the Date, sum the New recovered cases per month, and identify the month with the highest total recoveries."
      ],
      "metadata": {
        "id": "uUTLqUb4zxZe"
      }
    },
    {
      "cell_type": "code",
      "source": [
        "monthly_recovered_cases = df.withColumn(\"Month\", date_format(col(\"Date\"), \"MMMM\"))\\\n",
        "                            .groupBy(\"Month\").agg(sum(\"New recovered\").alias(\"Total_Recovered\"))\n",
        "most_recovered_month = monthly_recovered_cases.orderBy(col(\"Total_Recovered\").desc()).first()"
      ],
      "metadata": {
        "id": "azkadtD0zs7T"
      },
      "execution_count": 19,
      "outputs": []
    },
    {
      "cell_type": "markdown",
      "source": [
        "# Display Results"
      ],
      "metadata": {
        "id": "v2-6Pr78z4CB"
      }
    },
    {
      "cell_type": "code",
      "source": [
        "print(f\"Day with greatest number of COVID cases: {max_cases_day['Date']}\")\n",
        "print(f\"State with second-largest number of COVID cases: {second_largest_state['Name of State / UT']}\")\n",
        "print(f\"Union Territory with least number of deaths: {least_deaths_ut['Name of State / UT']}\")\n",
        "print(f\"State with lowest Death to Total Confirmed cases ratio: {lowest_death_ratio_state['Name of State / UT']}\")\n",
        "print(f\"Month with the most newer recovered cases: {most_recovered_month['Month']}\")"
      ],
      "metadata": {
        "colab": {
          "base_uri": "https://localhost:8080/"
        },
        "id": "_Sm7Wz-4z0zJ",
        "outputId": "fa8ef75f-106f-4471-c5ba-1c01bea64071"
      },
      "execution_count": 20,
      "outputs": [
        {
          "output_type": "stream",
          "name": "stdout",
          "text": [
            "Day with greatest number of COVID cases: 2020-07-18\n",
            "State with second-largest number of COVID cases: tamil nadu\n",
            "Union Territory with least number of deaths: andaman and nicobar islands\n",
            "State with lowest Death to Total Confirmed cases ratio: union territory of ladakh\n",
            "Month with the most newer recovered cases: July\n"
          ]
        }
      ]
    },
    {
      "cell_type": "code",
      "source": [
        "spark.stop()"
      ],
      "metadata": {
        "id": "DxCce_Vpz7i0"
      },
      "execution_count": 21,
      "outputs": []
    },
    {
      "cell_type": "code",
      "source": [],
      "metadata": {
        "id": "3r9cB2pA0BwA"
      },
      "execution_count": null,
      "outputs": []
    }
  ]
}